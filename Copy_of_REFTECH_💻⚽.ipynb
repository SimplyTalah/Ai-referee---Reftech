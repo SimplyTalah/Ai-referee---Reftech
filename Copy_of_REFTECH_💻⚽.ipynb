{
  "nbformat": 4,
  "nbformat_minor": 0,
  "metadata": {
    "colab": {
      "provenance": [],
      "authorship_tag": "ABX9TyOWAxqvnJLScr7fgLh8QTm6",
      "include_colab_link": true
    },
    "kernelspec": {
      "name": "python3",
      "display_name": "Python 3"
    },
    "language_info": {
      "name": "python"
    }
  },
  "cells": [
    {
      "cell_type": "markdown",
      "metadata": {
        "id": "view-in-github",
        "colab_type": "text"
      },
      "source": [
        "<a href=\"https://colab.research.google.com/github/SimplyTalah/Ai-referee---Reftech/blob/main/Copy_of_REFTECH_%F0%9F%92%BB%E2%9A%BD.ipynb\" target=\"_parent\"><img src=\"https://colab.research.google.com/assets/colab-badge.svg\" alt=\"Open In Colab\"/></a>"
      ]
    },
    {
      "cell_type": "markdown",
      "source": [
        "# REFTECH 💻⚽"
      ],
      "metadata": {
        "id": "UN4zrDXoiqST"
      }
    },
    {
      "cell_type": "markdown",
      "source": [
        "**Overview of the Idea :**\n",
        "\n",
        "The goal of this project is to integrate VAR (Video Assistant Referee) technology with Artificial Intelligence to referee soccer matches.\n",
        "We aim to develop an intelligent AI model that acts as an automatic video assistant referee, using player and ball tracking technologies and analyzing referee decisions in real time.\n",
        "The system leverages computer vision and AI to ensure fair and reliable decision-making during the game.\n",
        "\n"
      ],
      "metadata": {
        "id": "IS1TH4MIkrDC"
      }
    },
    {
      "cell_type": "markdown",
      "source": [
        "**Objectives:**\n",
        "1. Improve decision accuracy and reduce human errors in match refereeing.\n",
        "2. Speed up decision-making by automatically analyzing events and presenting them to referees.\n",
        "3. Develop a fully automated VAR system with no human intervention.\n",
        "4. Provide accurate analytics on player movements and ball tracking.\n",
        "5. Reduce refereeing controversies and ensure fairness in soccer matches.\n",
        "\n"
      ],
      "metadata": {
        "id": "2-ONrraIk7pm"
      }
    },
    {
      "cell_type": "markdown",
      "source": [
        "`**Effectiveness:**`\n",
        "The current solution is effective because it leverages cutting-edge AI and computer vision techniques, which have been proven successful in similar applications like player tracking in sports, autonomous vehicles, and security surveillance. For instance, AI models like YOLO have already been used to track objects in real-time with high accuracy.\n",
        "\n",
        "This approach has been effective in improving decision-making in sports like tennis and basketball, where AI-based systems track balls and players. By combining these proven technologies, we can enhance refereeing accuracy in soccer, reduce errors, and eliminate human bias.\n",
        "\n",
        "Similar systems have been used in professional sports to analyze player behavior and make real-time decisions. Our system follows this trend and brings this innovation to soccer refereeing."
      ],
      "metadata": {
        "id": "rrliwEEQlG95"
      }
    },
    {
      "cell_type": "markdown",
      "source": [
        "**`Data Availability:`**\n",
        "Currently, we have used a 31 video - 0 to 30 - clip for simplicity and clarity in demonstration. However, there is access to full, high-quality datasets that can be used to improve the model's performance.\n",
        "\n",
        "For example, datasets like the \"SoccerNet\" dataset, which contains full-length soccer match videos with annotated player movements, events, and ball trajectories, can be used for training. These datasets will allow the model to handle various real-world scenarios and improve its generalization to different match conditions.\n",
        "\n",
        "The availability of such data will help in creating a more accurate and robust AI referee system."
      ],
      "metadata": {
        "id": "DUBsSRN3lm87"
      }
    },
    {
      "cell_type": "markdown",
      "source": [
        "**Key Criteria:**\n",
        "1. **Speed**: The system processes match data in real-time, ensuring decisions are made without delays. With GPU acceleration on Google Colab, the system can handle large-scale video data efficiently.\n",
        "2. **Accuracy**: Using state-of-the-art computer vision models (like YOLOv5) and player tracking algorithms (DeepSORT), the system can detect players and ball positions with high accuracy, ensuring fair decisions.\n",
        "3. **Cost**: The solution leverages Google Colab's free GPU resources, making it a cost-effective solution for initial testing. However, for large-scale deployment, costs may arise due to cloud computing and data storage needs.\n",
        "4. **Scalability**: The system is designed to handle multiple matches and can be scaled with more computational resources, enabling it to be used for international competitions and large leagues.\n",
        "\n"
      ],
      "metadata": {
        "id": "Q-ZXWPbjmABA"
      }
    },
    {
      "cell_type": "code",
      "source": [
        "# Install the necessary libraries🗄️\n",
        "!pip install ultralytics\n",
        "!pip install opencv-python-headless\n",
        "!pip install deep_sort_realtime"
      ],
      "metadata": {
        "collapsed": true,
        "id": "TXKitwb4mXWg"
      },
      "execution_count": null,
      "outputs": []
    },
    {
      "cell_type": "code",
      "source": [
        "# Import necessary libraries🗃️\n",
        "import cv2\n",
        "from ultralytics import YOLO\n",
        "import os\n",
        "from google.colab import drive\n",
        "from google.colab import files"
      ],
      "metadata": {
        "id": "CVL0G2oUmfXy"
      },
      "execution_count": null,
      "outputs": []
    },
    {
      "cell_type": "code",
      "source": [
        "# Download YOLO8 👩‍💻\n",
        "model = YOLO(\"yolov8n.pt\")"
      ],
      "metadata": {
        "id": "yzHJsWDinH38"
      },
      "execution_count": null,
      "outputs": []
    },
    {
      "cell_type": "code",
      "source": [
        "# Sit the paths🗂️\n",
        "\n",
        "drive.mount('/content/drive')\n",
        "#Orignal path\n",
        "video_folder = '/content/drive/MyDrive/FOOTBALL_DATA/'\n",
        "#Were to save it\n",
        "output_folder = '/content/drive/MyDrive/your_folder/modified_videos'\n",
        "os.makedirs(output_folder, exist_ok=True)"
      ],
      "metadata": {
        "id": "rQDRzM18neyA"
      },
      "execution_count": null,
      "outputs": []
    },
    {
      "cell_type": "code",
      "source": [
        "# Video Processing 🛠️\n",
        "def process_video(video_path, output_path):\n",
        "    # Open the video file\n",
        "    cap = cv2.VideoCapture(video_path)\n",
        "\n",
        "    # Get video properties (dimensions, FPS)\n",
        "    width = int(cap.get(cv2.CAP_PROP_FRAME_WIDTH))\n",
        "    height = int(cap.get(cv2.CAP_PROP_FRAME_HEIGHT))\n",
        "    fps = int(cap.get(cv2.CAP_PROP_FPS))\n",
        "\n",
        "    # Set up VideoWriter to save the processed video\n",
        "    fourcc = cv2.VideoWriter_fourcc(*'mp4v')  # Video format\n",
        "    out = cv2.VideoWriter(output_path, fourcc, fps, (width, height))  # Output file\n",
        "\n",
        "    while cap.isOpened():\n",
        "        ret, frame = cap.read()\n",
        "        if not ret:\n",
        "            break\n",
        "\n",
        "        # Perform object detection using YOLOv8\n",
        "        results = model(frame)\n",
        "\n",
        "        # Get bounding box coordinates and other data\n",
        "        boxes = results[0].boxes.xyxy.cpu().numpy()  # Extract bounding boxes\n",
        "        confidences = results[0].boxes.conf.cpu().numpy()  # Extract confidence in detection\n",
        "        class_ids = results[0].boxes.cls.cpu().numpy()  # Extract object class (players, ball)\n",
        "\n",
        "        # Draw bounding boxes around detected objects\n",
        "        for i, box in enumerate(boxes):\n",
        "            x1, y1, x2, y2 = map(int, box)\n",
        "            cv2.rectangle(frame, (x1, y1), (x2, y2), (0, 255, 0), 2)  # Draw rectangle around object\n",
        "            label = f\"Class {class_ids[i]}: {confidences[i]:.2f}\"  # Add label and confidence\n",
        "            cv2.putText(frame, label, (x1, y1-10), cv2.FONT_HERSHEY_SIMPLEX, 0.5, (255, 0, 0), 2)\n",
        "\n",
        "        # Add offside line logic (simple assumption: the last line is the defense line)\n",
        "        cv2.line(frame, (0, 200), (frame.shape[1], 200), (0, 255, 0), 2)  # Draw offside line\n",
        "\n",
        "        # Write the processed frame to the output video\n",
        "        out.write(frame)\n",
        "\n",
        "    # Release the video objects\n",
        "    cap.release()\n",
        "    out.release()"
      ],
      "metadata": {
        "id": "Xnkuj2TwpBvn"
      },
      "execution_count": null,
      "outputs": []
    },
    {
      "cell_type": "code",
      "source": [
        "# Processing all videos in the original data🎥🗂️\n",
        "def process_videos_in_folder(video_folder, output_folder):\n",
        "    # Get all video files in the folder\n",
        "    video_files = [f for f in os.listdir(video_folder) if f.endswith(\".mp4\")]\n",
        "   # video_files = video_files[:5]  # for the purpose of tisting & Simplicity\n",
        "\n",
        "    # Process each video\n",
        "    for video_file in video_files:\n",
        "        video_path = os.path.join(video_folder, video_file)\n",
        "        output_path = os.path.join(output_folder, f\"modified_{video_file}\")\n",
        "\n",
        "        print(f\"Processing video: {video_path}\")\n",
        "        process_video(video_path, output_path)\n",
        "        print(f\"Modified video saved at: {output_path}\")\n"
      ],
      "metadata": {
        "id": "lmuzAVdOd0m3"
      },
      "execution_count": null,
      "outputs": []
    },
    {
      "cell_type": "code",
      "source": [
        "# Running the video processing and saving it 📁✨\n",
        "process_videos_in_folder(video_folder, output_folder)"
      ],
      "metadata": {
        "id": "arSQ2wQepRX_"
      },
      "execution_count": null,
      "outputs": []
    },
    {
      "cell_type": "markdown",
      "source": [
        "**`Conclusion:`**\n",
        "This AI-based VAR system has the potential to revolutionize soccer refereeing by ensuring more accurate and faster decisions, ultimately improving the fairness of the game. With further training using high-quality datasets and more robust computational resources, the system will become even more reliable.\n",
        "\n",
        "Future work will include expanding the dataset, enhancing the accuracy of decision-making models, and integrating the system into live sports events for real-time analysis."
      ],
      "metadata": {
        "id": "2iyeFgo6rzK4"
      }
    }
  ]
}